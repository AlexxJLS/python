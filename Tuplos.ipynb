{
 "cells": [
  {
   "cell_type": "markdown",
   "metadata": {},
   "source": [
    "# Tuplos"
   ]
  },
  {
   "cell_type": "markdown",
   "metadata": {},
   "source": [
    "Os tuplos (tuples) em Python são uma estrutura de dados que permite armazenar uma coleção de dados ordenada. São semelhantes a arrays e listas mas são imutáveis. Isso significa que, uma vez criado, o conteúdo de um tuplo não pode ser alterado."
   ]
  },
  {
   "cell_type": "markdown",
   "metadata": {},
   "source": [
    "Os tuplos são uma coleção ordenada e imutável de elementos. Os elementos podem ser de qualquer tipo, incluindo outros tuploes, e podem ser repetidos."
   ]
  },
  {
   "cell_type": "markdown",
   "metadata": {},
   "source": [
    "## Declaração"
   ]
  },
  {
   "cell_type": "code",
   "execution_count": null,
   "metadata": {},
   "outputs": [],
   "source": [
    "meu_tuplo = (1,2,3)\n",
    "\n",
    "#ou\n",
    "\n",
    "meu_tuplo_v2 = 1,2,3\n",
    "\n",
    "# ou\n",
    "\n",
    "meu_tuplo_v3 = tuple([1,2,3])\n",
    "\n",
    "#para declarar um tuplo com um único elemento\n",
    "\n",
    "meu_tuplo_v4 = (1,)"
   ]
  },
  {
   "cell_type": "markdown",
   "metadata": {},
   "source": [
    "Os elementos pode ser acedidos através de um índice, da mesma forma que os arrays ou as listas."
   ]
  },
  {
   "cell_type": "code",
   "execution_count": null,
   "metadata": {},
   "outputs": [],
   "source": [
    "frutas = (\"maçã\", \"banana\", \"cereja\")\n",
    "print(frutas[0])"
   ]
  },
  {
   "cell_type": "markdown",
   "metadata": {},
   "source": [
    "Os tuplos são imutáveis, qualquer tentativa em alterar um elemento resulta em erro"
   ]
  },
  {
   "cell_type": "code",
   "execution_count": null,
   "metadata": {},
   "outputs": [],
   "source": [
    "carros = (\"ford\",\"bmw\",\"audi\")\n",
    "carros[0] = \"VW\""
   ]
  },
  {
   "cell_type": "markdown",
   "metadata": {},
   "source": [
    "Empacotamento e desempacotamento"
   ]
  },
  {
   "cell_type": "code",
   "execution_count": null,
   "metadata": {},
   "outputs": [],
   "source": [
    "# empacotamento de um tuplo\n",
    "tuplo = 1, 2, 3\n",
    "\n",
    "# desempacotamento\n",
    "a, b, c = tuplo\n",
    "\n",
    "print(a,b,c)"
   ]
  },
  {
   "cell_type": "markdown",
   "metadata": {},
   "source": [
    "## Métodos de tuplos"
   ]
  },
  {
   "cell_type": "markdown",
   "metadata": {},
   "source": [
    "Número de elementos de um tuplo"
   ]
  },
  {
   "cell_type": "code",
   "execution_count": null,
   "metadata": {},
   "outputs": [],
   "source": [
    "t = (1,2,3,4,5,6,2)\n",
    "\n",
    "#número de elementos\n",
    "print(len(t))\n",
    "\n",
    "#número de ocorrencias de um elemento\n",
    "print(t.count(2))\n",
    "\n",
    "#índice da primeira ocorrência de um valor\n",
    "print(t.index(3))"
   ]
  },
  {
   "cell_type": "markdown",
   "metadata": {},
   "source": [
    "## Utilidade dos tuplos"
   ]
  },
  {
   "cell_type": "markdown",
   "metadata": {},
   "source": [
    "Os tuplos são úteis para devolver vários valores de uma função."
   ]
  },
  {
   "cell_type": "code",
   "execution_count": null,
   "metadata": {},
   "outputs": [],
   "source": [
    "def DevolveVarios():\n",
    "    a = 1\n",
    "    b = 2\n",
    "    c = 3\n",
    "    tuplo = a, b, c\n",
    "    return tuplo\n",
    "\n",
    "print(DevolveVarios())\n",
    "x, y, z = DevolveVarios()\n",
    "print(x,y,z)"
   ]
  },
  {
   "cell_type": "markdown",
   "metadata": {},
   "source": [
    "### Operadores com tuplos"
   ]
  },
  {
   "cell_type": "markdown",
   "metadata": {},
   "source": [
    "Os tuplos suportam o operador + (soma) para concatenar dois tuplos e operador e o operador * (produto) para repetir um tuplo"
   ]
  },
  {
   "cell_type": "code",
   "execution_count": null,
   "metadata": {},
   "outputs": [],
   "source": [
    "tupla1 = (1, 2, 3)\n",
    "tupla2 = (4, 5, 6)\n",
    "resultado = tupla1 + tupla2  # resultado será (1, 2, 3, 4, 5, 6)\n",
    "print(resultado)\n",
    "\n",
    "triplo = tupla1 * 3\n",
    "print(triplo)"
   ]
  },
  {
   "cell_type": "markdown",
   "metadata": {},
   "source": [
    "### Outras funções"
   ]
  },
  {
   "cell_type": "markdown",
   "metadata": {},
   "source": [
    "Com os tuplos podemos utilizar funções como min() e max() para encontrar o menor e o maior valor."
   ]
  },
  {
   "cell_type": "code",
   "execution_count": null,
   "metadata": {},
   "outputs": [],
   "source": [
    "numeros = (9,8,7)\n",
    "menor=min(numeros)\n",
    "maior=max(numeros)\n",
    "print(menor,maior)\n"
   ]
  },
  {
   "cell_type": "markdown",
   "metadata": {},
   "source": [
    "Também funciona com strings"
   ]
  },
  {
   "cell_type": "code",
   "execution_count": null,
   "metadata": {},
   "outputs": [],
   "source": [
    "nomes = (\"maria\",\"antónio\",\"carla\")\n",
    "\n",
    "print(min(nomes))\n",
    "print(max(nomes))"
   ]
  },
  {
   "cell_type": "markdown",
   "metadata": {},
   "source": [
    "Para obter os valores ordenados existe a função sorted()"
   ]
  },
  {
   "cell_type": "code",
   "execution_count": null,
   "metadata": {},
   "outputs": [],
   "source": [
    "numeros = (9,8,7)\n",
    "\n",
    "numeros_ordenados=sorted(numeros)\n",
    "print(numeros_ordenados)\n",
    "\n",
    "nomes = (\"maria\",\"antónio\",\"carla\")\n",
    "nomes_ordenados=sorted(nomes)\n",
    "print(nomes_ordenados)\n"
   ]
  }
 ],
 "metadata": {
  "kernelspec": {
   "display_name": "Python 3",
   "language": "python",
   "name": "python3"
  },
  "language_info": {
   "codemirror_mode": {
    "name": "ipython",
    "version": 3
   },
   "file_extension": ".py",
   "mimetype": "text/x-python",
   "name": "python",
   "nbconvert_exporter": "python",
   "pygments_lexer": "ipython3",
   "version": "3.12.2"
  }
 },
 "nbformat": 4,
 "nbformat_minor": 2
}
